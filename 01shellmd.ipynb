{
 "cells": [
  {
   "cell_type": "markdown",
   "id": "3b8e6153",
   "metadata": {},
   "source": [
    "# Herramientas digitales 2022-10\n",
    "## Texto digital\n",
    "## [Nicolás Vaughan](https://posgradosfacartes.uniandes.edu.co/miembro/nicolas-vaughan-caro/)\n",
    "### 1. Introducción a la línea de comandos y a markdown"
   ]
  },
  {
   "cell_type": "markdown",
   "id": "70e6ffd2",
   "metadata": {},
   "source": []
  },
  {
   "cell_type": "markdown",
   "id": "c26bae86",
   "metadata": {},
   "source": []
  },
  {
   "cell_type": "markdown",
   "id": "3674302c",
   "metadata": {},
   "source": []
  },
  {
   "cell_type": "markdown",
   "id": "be30c87e",
   "metadata": {},
   "source": []
  },
  {
   "cell_type": "markdown",
   "id": "91c2131d",
   "metadata": {},
   "source": [
    "# Tarea\n",
    "\n",
    "#### Deben crear una versión en markdown de su hoja de vida completa. Debe incluir, por lo menos, lo siguiente: \n",
    "- datos personales mínimos —*sin* CC ni teléfono, desde luego— \n",
    "- una foto\n",
    "- una descripción de su perfil profesional\n",
    "- estudios\n",
    "- experiencia profesional\n",
    "\n",
    "#### Deben usar toda la sintaxis disponible de markdown (énfasis, títulos de secciones, listas, enlaces, imágenes, etc.).\n",
    "\n",
    "#### Deben subir el documento .md y la imagen que enlazaron a la actividad del Bloque Neón.\n",
    "\n",
    "#### Plazo: viernes 6 de mayo a las 5pm.\n"
   ]
  },
  {
   "cell_type": "code",
   "execution_count": null,
   "id": "049c13c6",
   "metadata": {},
   "outputs": [],
   "source": []
  }
 ],
 "metadata": {
  "kernelspec": {
   "display_name": "Python 3 (ipykernel)",
   "language": "python",
   "name": "python3"
  },
  "language_info": {
   "codemirror_mode": {
    "name": "ipython",
    "version": 3
   },
   "file_extension": ".py",
   "mimetype": "text/x-python",
   "name": "python",
   "nbconvert_exporter": "python",
   "pygments_lexer": "ipython3",
   "version": "3.10.4"
  }
 },
 "nbformat": 4,
 "nbformat_minor": 5
}
