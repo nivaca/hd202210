{
 "cells": [
  {
   "cell_type": "markdown",
   "id": "b5cf1cbd",
   "metadata": {},
   "source": [
    "# Herramientas digitales (2021-20)\n",
    "\n",
    "## Introducción a GIT\n",
    "Nicolás Vaughan\n",
    "\n",
    "n.vaughan@uniandes.edu.co\n",
    "\n",
    "https://github.com/nivaca"
   ]
  },
  {
   "cell_type": "markdown",
   "id": "aa923650",
   "metadata": {},
   "source": [
    " ## Configuración inicial\n",
    " \n",
    " ### Usuario\n",
    " ```sh\n",
    " git config --global user.name \"John Doe\"\n",
    " git config --global user.email johndoe@example.com\n",
    " ```\n",
    " \n",
    " ### Editor\n",
    " ```sh\n",
    " git config --global core.editor vim\n",
    " ```\n",
    " \n",
    " ```sh\n",
    " git config --global core.editor \"'C:/Program Files/Notepad++/notepad++.exe' -multiInst -notabbar -nosession -noPlugin\"\n",
    " ```\n",
    " \n",
    " ### Nombre de la rama principal\n",
    " ```sh\n",
    " git config --global init.defaultBranch main\n",
    " ```\n",
    " (normalmente es `master` o `main`)\n",
    " \n",
    " ### Para confirmar la configuración\n",
    " ```sh\n",
    " git config --list\n",
    " ```\n",
    " \n",
    " ### Notas\n",
    " 1. Para hacer local (a un repositorio determinado) la configuración, simplemente reemplazar el parámetro `--global` por `--local`.\n",
    " 2. Para ver ayuda sobre configuración: `man git config` (en general: `man git`, `man git add`, etc.) (`man` es el sistema de ayuda en el terminal para Linux/Mac y, si instalaron Bash y otro shell, para Windows también)."
   ]
  },
  {
   "cell_type": "markdown",
   "id": "a7d9e8e3",
   "metadata": {},
   "source": [
    "## Crear un repositorio nuevo\n",
    "Dentro del directorio que quieren que hospede el repositorio actual (vacío o no):\n",
    "```sh\n",
    "git init\n",
    "```\n",
    "\n",
    "Luego pueden añadir todos o algunos archivos al primer nivel (*staging*):\n",
    "```sh\n",
    "git add -A\n",
    "git add .\n",
    "git add midocumento.txt\n",
    "git add *.xml\n",
    "```\n",
    "\n",
    "Al respecto de `git add`, pueden ver [aquí](https://github.com/git-guides/git-add#deciding-to-stage-all-files).\n",
    "\n",
    "\n",
    "Y finalmente hacen el *commit*:\n",
    "```sh\n",
    "git commit -m \"primer commit\"\n",
    "```"
   ]
  },
  {
   "cell_type": "markdown",
   "id": "9ee39a15",
   "metadata": {},
   "source": [
    "## El flujo de trabajo\n",
    "- La idea es que ustedes van trabajando en la carpeta principial (o en sus subcarpetas: todo cae bajo Git, a menos que digan expresamente lo contrario): crear archivos, borrar archivos, editar archivos, etc.\n",
    "- Pueden ir añadiendo al *staging* de Git los archivos que quieran (`git add -A`, `git add tesis.md`, etc.) a medida que van trabajando.\n",
    "- Cuando quieran crear una \"instantánea\" del estado actual del repositorio, realicen el *commit*. E.g. `git commit -m \"Reemplazo variables en la función inicial\"`\n",
    "    - El mensaje debe ser suficientemente informativo para que ustedes sepan qué hicieron.\n",
    "    - Debe ser lo suficientemente largo, pero no excesivamente largo.\n",
    "    - Esto no: `git commit -m \"cambio\"`\n",
    "- Tengan en cuenta que si se quieren devolverse a un *commit* anterior, si quieren crear una nueva rama a partir de otro *commit*, etc., el *commit* que escojan tendrá todos los archivos cambiados en el momento de su creación. Es todo o nada. Por eso tiene que ser cuidadosos cuando añadan o eliminen archivos (`git add`) y luego creen sus *commits*.\n",
    "\n",
    "- Nota: `git commit -a -m \"mensaje\"` es un ataja para: `git add -A` y luego `git commit -m \"mensaje\"."
   ]
  },
  {
   "cell_type": "markdown",
   "id": "866a3232",
   "metadata": {},
   "source": [
    "## Ignorar archivos\n",
    "- En la carpeta principal del repositorio, creen un nuevo archivo llamado `.gitignore` con los archivos que quieran esconder de Git.\n",
    "- Usen una línea por cada uno, e.g.:\n",
    "\n",
    "```\n",
    "*.aux\n",
    "*.bcf\n",
    "*.bbl\n",
    "*.blg\n",
    "*.fdb_latexmk\n",
    "*.fls\n",
    "*.idx\n",
    "*.ilg\n",
    "*.ind\n",
    "*.log\n",
    "*.out\n",
    "*.run.xml\n",
    "*.pdf\n",
    "*.toc\n",
    ".DS_Store\n",
    "vulgClem/\n",
    "bak/\n",
    "```\n",
    "\n",
    "Para más detalles ver [aquí](https://www.atlassian.com/git/tutorials/saving-changes/gitignore)."
   ]
  },
  {
   "cell_type": "markdown",
   "id": "6039ed10",
   "metadata": {},
   "source": [
    "## Ver el estado del repositorio\n",
    "```sh\n",
    "git log\n",
    "git status\n",
    "```"
   ]
  },
  {
   "cell_type": "markdown",
   "id": "c1437e9c",
   "metadata": {},
   "source": [
    "## Deshacer cambios en el *staging*  (antes de un *commit*)\n",
    "\n",
    "Archivo por archivo:\n",
    "```sh\n",
    "git restore miarchivo.txt\n",
    "```\n",
    "\n",
    "Limpiar el repositorio en el estado anterior (en el *head* o último *commit*)\n",
    "\n",
    "```sh\n",
    "git stash\n",
    "git stash clear\n",
    "```\n",
    "\n",
    "(En realidad, `git stash` guarda los cambios hechos en un caché temporal, que luego puede traerse de nuevo con `git stash pop`.)"
   ]
  },
  {
   "cell_type": "markdown",
   "id": "b3489b2d",
   "metadata": {},
   "source": [
    "## Cambiar a un *commit* determinado\n",
    "```sh\n",
    "git checkout <id del commit>\n",
    "```\n",
    "\n",
    "Por ejemplo:\n",
    "```\n",
    "git checkout 74f93c5\n",
    "```\n",
    "\n",
    "(dependiendo de su configuración, pueden presionar la tecla `<tab>` para ver la lista de *commits* y seleccionarlo)."
   ]
  },
  {
   "cell_type": "markdown",
   "id": "464e3189",
   "metadata": {},
   "source": [
    "## Ramas\n",
    "\n",
    "### Creación\n",
    "\n",
    "```sh\n",
    "git branch <nombre de la nueva rama>\n",
    "```\n",
    "\n",
    "### Cambiar de rama\n",
    "\n",
    "```sh\n",
    "git switch <nombre de la rama>\n",
    "```\n",
    "\n",
    "(Nota: antes de Git v.2.23, en lugar de `switch` era `checkout`.)\n",
    "\n",
    "### Crear y cambiar en un solo paso\n",
    "\n",
    "```sh\n",
    "git switch -b <nombre de la nueva rama>\n",
    "```\n",
    "\n",
    "### Eliminar una rama\n",
    "Estando en otra rama:\n",
    "\n",
    "```sh\n",
    "git branch -d <nombre de la rama>\n",
    "```\n",
    "\n",
    "\n",
    "### Ver las ramas\n",
    "#### Locales\n",
    "```sh\n",
    "git branch\n",
    "```\n",
    "#### Remotas\n",
    "```sh\n",
    "git branch -r\n",
    "```\n",
    "#### Todas\n",
    "```sh\n",
    "git branch -a\n",
    "```\n",
    "\n",
    "### Unir (*merge*) ramas\n",
    "Desde la rama que se desea que tome todos los *commits* de la otra:\n",
    "```sh\n",
    "git merge <nombre de la otra rama>\n",
    "```\n",
    "\n",
    "#### Por ejemplo:\n",
    "- Hemos hecho cambios en la rama \"pruebas\". Entonces nos cambiamos: `git switch main`\n",
    "- Luego: `git merge prueba`\n",
    "- Si queremos, podemos borrar la anterior: `git branch -d pruebas`"
   ]
  },
  {
   "cell_type": "markdown",
   "id": "82588834",
   "metadata": {},
   "source": [
    "# Trabajando con GitHub (o GitLab, o...)\n"
   ]
  },
  {
   "cell_type": "markdown",
   "id": "5e41fcf7",
   "metadata": {},
   "source": [
    "## Clonar localmente un repositorio de Github\n",
    "```sh\n",
    "git clone https://github.com/nivaca/hd2021-20/\n",
    "```\n",
    "(les pide su usuario y contraseña, a menos que tengan configurado SSH)."
   ]
  },
  {
   "cell_type": "markdown",
   "id": "5fbdd9ca",
   "metadata": {},
   "source": [
    "### Si tienen permisos de escritura:\n",
    "\n",
    "Podrán trabajar localmente y cuando quieran \"subir\" (*push*) sus cambios:\n",
    "```sh \n",
    "git push\n",
    "```\n",
    "\n",
    "Más completo:\n",
    "```sh \n",
    "git push -u origin <nombre de la rama a la que van a subir su commit>\n",
    "```"
   ]
  },
  {
   "cell_type": "markdown",
   "id": "34e995d5",
   "metadata": {},
   "source": [
    "## Si no tienen permisos de escritura:\n",
    "\n",
    "- Desde GitHub (GitLab, etc.), pueden hacer una derivación (*fork*) del repositorio ajeno.\n",
    "- Luega crean una copia local de su *fork* (con `git clone`).\n",
    "- Una vez hayan subido sus cambios en GitHub a su propio *fork*, desde ahí solicitan un *pull request* (PR).\n",
    "- El dueño del repositorio podrá aceptar o rechazar el PR.\n",
    "\n",
    "** Esta es la forma más segura de trabajar colaborativamente con GitHub (GitLab, etc.) **"
   ]
  }
 ],
 "metadata": {
  "kernelspec": {
   "display_name": "Python 3",
   "language": "python",
   "name": "python3"
  },
  "language_info": {
   "codemirror_mode": {
    "name": "ipython",
    "version": 3
   },
   "file_extension": ".py",
   "mimetype": "text/x-python",
   "name": "python",
   "nbconvert_exporter": "python",
   "pygments_lexer": "ipython3",
   "version": "3.10.4"
  }
 },
 "nbformat": 4,
 "nbformat_minor": 5
}
