{
 "cells": [
  {
   "cell_type": "markdown",
   "id": "76c70e6f",
   "metadata": {},
   "source": [
    "# Herramientas digitales 2022-10\n",
    "## Texto digital\n",
    "## Introducción a CETEIcean\n",
    "## [Nicolás Vaughan](https://posgradosfacartes.uniandes.edu.co/miembro/nicolas-vaughan-caro/)\n",
    "\n",
    "---"
   ]
  },
  {
   "cell_type": "markdown",
   "id": "94917823",
   "metadata": {},
   "source": [
    "<!--\n",
    "# Instrucciones\n",
    "\n",
    "- Descarguen el archivo [clase.zip](https://github.com/nivaca/hd202210/raw/main/nivaca/assets/clase.zip) y descomprímanlo en algún lugar en su computador.\n",
    "- El contenido de ese archivo es:\n",
    "```\n",
    "├── cortazar.xml\n",
    "├── css\n",
    "│   └── tei.css\n",
    "├── index.html\n",
    "└── js\n",
    "    └── CETEI.js\n",
    "```\n",
    "-->"
   ]
  },
  {
   "cell_type": "markdown",
   "id": "94917823",
   "metadata": {},
   "source": [
    "# Instrucciones\n",
    "\n",
    "- Entren a GitHub y loguéense con sus datos (usuario y clave).\n",
    "- Vayan a este repositorio: https://github.com/nivaca/CETEIcean-cort\n",
    "- Hagan un \"fork\" del repositorio, es decir, una copia propia de ese repositorio en su cuenta. Para ello hagan click en el botón que dice \"Fork\", arriba a la derecha:\n",
    "\n",
    "![fork](img/fork.png)\n",
    "\n",
    "- Ahora clonen ese nuevo repositorio en su computador. Estando en la página del \"fork\" recién creado, hagan click en el botón que dice \"Code\" y luego copien esa dirección:\n",
    "\n",
    "![clone](img/clone.png)\n",
    "\n",
    "Usando esa dirección (que deber ser algo como `https://github.com/<usuario>/CETEIcean-cort.git`, ojo con su nombre de usuario), ahora pueden clonarlo en su computador:\n",
    "\n",
    "```sh\n",
    "cd ~/Downloads\n",
    "git clone https://github.com/<usuario>/CETEIcean-cort.git\n",
    "cd CETEIcean-cort\n",
    "```\n",
    "\n",
    "- Una vez adentro, tecleen `tree` en la línea de comando y verán lo siguiente:\n",
    "\n",
    "```\n",
    "├── cortazar.xml\n",
    "├── css\n",
    "│   └── tei.css\n",
    "├── index.html\n",
    "└── js\n",
    "    └── CETEI.js\n",
    "```"
   ]
  },
  {
   "cell_type": "code",
   "execution_count": null,
   "id": "be1fdfb9",
   "metadata": {},
   "outputs": [],
   "source": []
  }
 ],
 "metadata": {
  "interpreter": {
   "hash": "e7370f93d1d0cde622a1f8e1c04877d8463912d04d973331ad4851f04de6915a"
  },
  "kernelspec": {
   "display_name": "Python 3.10.4 64-bit",
   "language": "python",
   "name": "python3"
  },
  "language_info": {
   "codemirror_mode": {
    "name": "ipython",
    "version": 3
   },
   "file_extension": ".py",
   "mimetype": "text/x-python",
   "name": "python",
   "nbconvert_exporter": "python",
   "pygments_lexer": "ipython3",
   "version": "3.10.4"
  }
 },
 "nbformat": 4,
 "nbformat_minor": 5
}
