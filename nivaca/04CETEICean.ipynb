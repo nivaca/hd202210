{
 "cells": [
  {
   "cell_type": "markdown",
   "id": "76c70e6f",
   "metadata": {},
   "source": [
    "# Herramientas digitales 2022-10\n",
    "## Texto digital\n",
    "## Introducción a CETEIcean\n",
    "## [Nicolás Vaughan](https://posgradosfacartes.uniandes.edu.co/miembro/nicolas-vaughan-caro/)\n",
    "\n",
    "---"
   ]
  },
  {
   "cell_type": "markdown",
   "id": "94917823",
   "metadata": {},
   "source": [
    "# Instrucciones\n",
    "\n",
    "- Descarguen el archivo [clase.zip](/assets/clase.zip) y descomprímanlo en algún lugar en su computador.\n",
    "- El contenido de ese archivo es:\n",
    "```\n",
    "├── cortazar.xml\n",
    "├── css\n",
    "│   └── tei.css\n",
    "├── index.html\n",
    "└── js\n",
    "    └── CETEI.js\n",
    "```"
   ]
  },
  {
   "cell_type": "code",
   "execution_count": null,
   "id": "be1fdfb9",
   "metadata": {},
   "outputs": [],
   "source": []
  }
 ],
 "metadata": {
  "interpreter": {
   "hash": "e7370f93d1d0cde622a1f8e1c04877d8463912d04d973331ad4851f04de6915a"
  },
  "kernelspec": {
   "display_name": "Python 3.10.4 64-bit",
   "language": "python",
   "name": "python3"
  },
  "language_info": {
   "codemirror_mode": {
    "name": "ipython",
    "version": 3
   },
   "file_extension": ".py",
   "mimetype": "text/x-python",
   "name": "python",
   "nbconvert_exporter": "python",
   "pygments_lexer": "ipython3",
   "version": "3.10.4"
  }
 },
 "nbformat": 4,
 "nbformat_minor": 5
}
