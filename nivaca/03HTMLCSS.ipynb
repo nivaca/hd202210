{
 "cells": [
  {
   "cell_type": "markdown",
   "id": "b1d0dbc3",
   "metadata": {},
   "source": [
    "# Herramientas digitales 2022-10\n",
    "## Texto digital\n",
    "## Introducción a la línea de comandos y a markdown\n",
    "## [Nicolás Vaughan](https://posgradosfacartes.uniandes.edu.co/miembro/nicolas-vaughan-caro/)\n",
    "\n",
    "---"
   ]
  },
  {
   "cell_type": "markdown",
   "id": "d32deb76",
   "metadata": {},
   "source": [
    "# Una plantilla mínima de HTML5\n",
    "\n",
    "```html\n",
    "<!DOCTYPE html>\n",
    "<html>\n",
    "  <head>\n",
    "    <title></title>\n",
    "  </head>\n",
    "  <body></body>\n",
    "</html>\n",
    "```\n",
    "\n",
    "\n",
    "Cópienla y péguenla en un nuevo documento en VS Code. Guárdenlo con cualquier nombre con extensión `.html`.\n"
   ]
  },
  {
   "cell_type": "markdown",
   "id": "474bb519",
   "metadata": {},
   "source": [
    "# Aclaración de términos\n",
    "\n",
    "- Un **elemento** de HTML (y de XML) es una manera formal de marcar que cierto contenido tiene cierta significación.\n",
    "\n",
    "- Todo elemento tiene dos **etiquetas** (*tags*), una de apertura y otra de cierre, p. ej.:\n",
    "    ```html\n",
    "    <p></p>\n",
    "    ```\n",
    "\n",
    "- El **contenido** de un elemento es todo lo que va entre sus dos etiquetas, p. ej.:\n",
    "```html\n",
    "<p>Este es el contenido de este elemento</p>\n",
    "```\n",
    "\n",
    "- Los elementos *pueden* tener uno o más **atributos**, esto es, información adicional sobre su significado o representación (no sobre su contenido), p. ejemplo:\n",
    "\n",
    "```html\n",
    "<p class=\"parr-sangrado\">...</p>\n",
    "\n",
    "<q id=\"epígrafe\">...</q>\n",
    "\n",
    "<div style=\"background-color: green;\">...</div>\n",
    "\n",
    "<span class=\"números\" id=\"margen\">...</span>\n",
    "```\n",
    "\n",
    "- Noten que los atributos de HTML siempre son de la forma: `nombre=\"valor\"` y van separados de otros atributos por un espacio en blanco (` `).\n",
    "\n",
    "- Los *atributos de HTML* no se deben confudir con las *propiedades de CSS*. Comparen: \n",
    "    - `id=\"epígrafe\"`  (atributo HTML)\n",
    "    - `background-color: green;` (propiedad CSS)"
   ]
  },
  {
   "cell_type": "markdown",
   "id": "fde85e09",
   "metadata": {},
   "source": [
    "# Dos reglas formales\n",
    "\n",
    "1. Todo elemento que abran deben cerrarlo, p. ej.\n",
    "\n",
    "```html\n",
    "<div>\n",
    "    ...\n",
    "    <p>\n",
    "         ...\n",
    "        <q>\n",
    "            ...\n",
    "        </q>\n",
    "        ...\n",
    "    </p>\n",
    "    ...\n",
    "</div>\n",
    "```\n",
    "\n",
    "2. No deben cruzar contextos de elementos. Esto es un error, p. ej.:\n",
    "```\n",
    "<p>\n",
    "        <q>\n",
    "</p>\n",
    "        </q>\n",
    "```\n",
    "\n",
    "Nota: hay algunos elementos de \"de autocerrado\", es decir, que no tienen contenido y por lo tanto se pueden abreviar:\n",
    "\n",
    "- `<br></br>` ⇒ `<br/>` (salto de línea)\n",
    "- `<hr></hr>` ⇒ `<hr/>` (línea horizontal)"
   ]
  },
  {
   "cell_type": "markdown",
   "id": "ee192c5e",
   "metadata": {},
   "source": [
    "# Dos tipos básicos de elementos estructurales\n",
    "\n",
    "## En línea\n",
    "- *No* ocupan todo el ancho de la página sino restringen a su espacio horizontal en la línea.\n",
    "- `<span>` es el más conocido y usado, pero en general todos elementos que cambian la fuente son de este tipo (y muchos otros).\n",
    "\n",
    "\n",
    "## En bloque\n",
    "- Ocupan todo el ancho de la página.\n",
    "- Los ejemplos más frecuentes son `<div>` (división estructural) y `<p>` (párrafo). "
   ]
  },
  {
   "cell_type": "markdown",
   "id": "0836db94",
   "metadata": {},
   "source": [
    "## Comentarios en HTML\n",
    "```html\n",
    "<!-- esto es un comentario -->\n",
    "```"
   ]
  },
  {
   "cell_type": "markdown",
   "id": "742a545e",
   "metadata": {},
   "source": [
    "# Algunas equivalencias\n",
    "\n",
    "![equivalencias](img/equivhtmlmd.png)"
   ]
  },
  {
   "cell_type": "markdown",
   "id": "cfcecacb",
   "metadata": {},
   "source": []
  },
  {
   "cell_type": "markdown",
   "id": "21135eee",
   "metadata": {},
   "source": []
  },
  {
   "cell_type": "markdown",
   "id": "b10e2875",
   "metadata": {},
   "source": []
  },
  {
   "cell_type": "markdown",
   "id": "822afa00",
   "metadata": {},
   "source": [
    "# Referencia para CSS\n",
    "https://www.w3schools.com/cssref/default.asp"
   ]
  },
  {
   "cell_type": "markdown",
   "id": "65be082e",
   "metadata": {},
   "source": []
  }
 ],
 "metadata": {
  "kernelspec": {
   "display_name": "Python 3",
   "language": "python",
   "name": "python3"
  },
  "language_info": {
   "codemirror_mode": {
    "name": "ipython",
    "version": 3
   },
   "file_extension": ".py",
   "mimetype": "text/x-python",
   "name": "python",
   "nbconvert_exporter": "python",
   "pygments_lexer": "ipython3",
   "version": "3.10.4"
  }
 },
 "nbformat": 4,
 "nbformat_minor": 5
}
